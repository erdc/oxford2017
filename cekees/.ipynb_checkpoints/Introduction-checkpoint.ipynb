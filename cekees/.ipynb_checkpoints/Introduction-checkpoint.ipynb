{
 "cells": [
  {
   "cell_type": "markdown",
   "metadata": {
    "hideCode": false,
    "hidePrompt": false,
    "slideshow": {
     "slide_type": "slide"
    }
   },
   "source": [
    "Proteus FSI Workshop, Oxford 2017![triton](http://proteustoolkit.org/_static/corps_logo_cross2.svg)\n",
    "=================\n",
    "\n",
    "This notebook is also a (live) slide presentation. To view it as a presentation, click on the button in the toolbar that looks like this: ![rise button](rise.png)\n",
    "\n",
    "Use the space bar to step through and shift-enter to execute code cells."
   ]
  },
  {
   "cell_type": "markdown",
   "metadata": {
    "hideCode": false,
    "hidePrompt": false,
    "slideshow": {
     "slide_type": "slide"
    }
   },
   "source": [
    "### Acknowledgements\n",
    "---\n",
    "- Math Institute: Niall Bootland and Chris Breward (Oxford)\n",
    "- HR Wallingford: Aggelos Dimakopoulos\n",
    "- Travel: Natalie Elwart (ERDC-CHL)\n",
    "- Funding:\n",
    "  - [ERDC](http://www.erdc.usace.army.mil) 219 Program\n",
    "  - [ERDC Military Engineering](http://www.erdc.usace.army.mil/Missions/Military-Engineering/)\n",
    "  - [Oxford InFoMM](https://www.ox.ac.uk/admissions/graduate/courses/industrially-focused-mathematical-modelling?wssl=1)\n"
   ]
  },
  {
   "cell_type": "markdown",
   "metadata": {
    "hideCode": false,
    "hidePrompt": false,
    "slideshow": {
     "slide_type": "slide"
    }
   },
   "source": [
    "### Logistics\n",
    "---\n",
    "- Facilities at the Math Institute\n",
    "- Headcount and rides for Wednesday\n",
    "- [Schedule: http://erdc.github.io/sprints ](http://erdc.github.io/sprints)\n",
    "- [Wiki: https://github.com/erdc/sprints/wiki/Proteus-FSI-Workshop-July-3-to-7](https://github.com/erdc/sprints/wiki/Proteus-FSI-Workshop-July-3-to-7)"
   ]
  },
  {
   "cell_type": "markdown",
   "metadata": {
    "hideCode": false,
    "hidePrompt": false,
    "slideshow": {
     "slide_type": "slide"
    }
   },
   "source": [
    "### Workshop Objectives\n",
    "---\n",
    "- Three-phase continuum modeling approach to air/water/sediment flows\n",
    "- FEM-DEM approaches to granular media \n",
    "- Scalable preconditioners for multi-phase Navier-Stokes equations\n",
    "- Galerkin finite element methods for NSE and SWE\n",
    "- Mesh adaptivity\n",
    "- Proteus 1.4 and 2.0 plan"
   ]
  },
  {
   "cell_type": "markdown",
   "metadata": {
    "slideshow": {
     "slide_type": "slide"
    }
   },
   "source": [
    "### Survey of recent R&D in Proteus"
   ]
  },
  {
   "cell_type": "markdown",
   "metadata": {
    "slideshow": {
     "slide_type": "slide"
    }
   },
   "source": [
    "### Entropy Viscosity\n",
    "---\n"
   ]
  },
  {
   "cell_type": "markdown",
   "metadata": {
    "slideshow": {
     "slide_type": "slide"
    }
   },
   "source": [
    "### Projection Scheme\n",
    "---"
   ]
  },
  {
   "cell_type": "markdown",
   "metadata": {
    "slideshow": {
     "slide_type": "slide"
    }
   },
   "source": [
    "### Three-Phase Flow\n",
    "---\n"
   ]
  },
  {
   "cell_type": "markdown",
   "metadata": {
    "slideshow": {
     "slide_type": "slide"
    }
   },
   "source": [
    "### Moored Rigid Structures\n",
    "---"
   ]
  },
  {
   "cell_type": "markdown",
   "metadata": {
    "slideshow": {
     "slide_type": "slide"
    }
   },
   "source": [
    "### Deforming (Flexible) Structures\n",
    "---"
   ]
  },
  {
   "cell_type": "markdown",
   "metadata": {
    "slideshow": {
     "slide_type": "slide"
    }
   },
   "source": [
    "### Immersed Boundary Methods\n",
    "---"
   ]
  },
  {
   "cell_type": "markdown",
   "metadata": {
    "slideshow": {
     "slide_type": "slide"
    }
   },
   "source": [
    "### FEM-DEM\n",
    "---"
   ]
  },
  {
   "cell_type": "markdown",
   "metadata": {
    "slideshow": {
     "slide_type": "slide"
    }
   },
   "source": [
    "### Adaptivity\n",
    "---"
   ]
  },
  {
   "cell_type": "markdown",
   "metadata": {
    "slideshow": {
     "slide_type": "slide"
    }
   },
   "source": [
    "### IPython Widgets \n",
    "---"
   ]
  },
  {
   "cell_type": "code",
   "execution_count": 24,
   "metadata": {
    "slideshow": {
     "slide_type": "subslide"
    }
   },
   "outputs": [
    {
     "data": {
      "application/vnd.jupyter.widget-view+json": {
       "model_id": "9053bfe103364766aa4e931e8b494fa4"
      }
     },
     "metadata": {},
     "output_type": "display_data"
    }
   ],
   "source": [
    "from ipymesh import PSLGEditor\n",
    "editor = PSLGEditor(vertices=[(0.1,0.1)],regionTypes=[1,2,0], boundaryTypes=[1,2,3,4,0], \n",
    "                    Lx=1.0, Ly=1.0, width=800, height=400)\n",
    "editor"
   ]
  },
  {
   "cell_type": "code",
   "execution_count": 35,
   "metadata": {
    "slideshow": {
     "slide_type": "slide"
    }
   },
   "outputs": [
    {
     "data": {
      "application/vnd.jupyter.widget-view+json": {
       "model_id": "c47f3a4bb39d4cf7a075730e3969399d"
      }
     },
     "metadata": {},
     "output_type": "display_data"
    }
   ],
   "source": [
    "from ipymesh import PSLGEditor\n",
    "from proteus import Domain\n",
    "\n",
    "class PSLG_DomainEditor(PSLGEditor, Domain.PlanarStraightLineGraphDomain):\n",
    "    def __init__(self, *args, **kwargs):\n",
    "        super(PSLG_DomainEditor, self).__init__(*args, **kwargs)\n",
    "domain_editor = PSLG_DomainEditor(vertices=[(0.1,0.1)],regionTypes=[1,2,0], boundaryTypes=[1,2,3,4,0], \n",
    "                    x0=0.0, y0=0.0,Lx=1.0, Ly=1.0, width=800, height=400, polyfile=None, regionConstraints=None)\n",
    "domain_editor"
   ]
  },
  {
   "cell_type": "code",
   "execution_count": 36,
   "metadata": {
    "slideshow": {
     "slide_type": "slide"
    }
   },
   "outputs": [],
   "source": [
    "from proteus import TriangleTools\n",
    "domain_editor.writePoly('mesh')\n",
    "tmesh = TriangleTools.TriangleBaseMesh(baseFlags='VApq30Dena{0:f}'.format(0.001),\n",
    "                                       nbase=1,\n",
    "                                       verbose=10)\n",
    "tmesh.readFromPolyFile(domain_editor.polyfile)\n",
    "tmesh.writeToFile(domain_editor.polyfile)\n",
    "mesh=tmesh.convertToProteusMesh(verbose=1)"
   ]
  },
  {
   "cell_type": "code",
   "execution_count": 37,
   "metadata": {
    "slideshow": {
     "slide_type": "subslide"
    }
   },
   "outputs": [
    {
     "data": {
      "application/vnd.jupyter.widget-view+json": {
       "model_id": "07f7085537f14bca8834c20c7b40b7ce"
      }
     },
     "metadata": {},
     "output_type": "display_data"
    }
   ],
   "source": [
    "import ipympl\n",
    "from matplotlib import pyplot as plt\n",
    "fig, ax = plt.subplots(1,1)\n",
    "ax.tripcolor(mesh.nodeArray[:,0],\n",
    "              mesh.nodeArray[:,1],\n",
    "              mesh.elementNodesArray,\n",
    "              edgecolors='k',\n",
    "              facecolors=mesh.elementMaterialTypes)\n",
    "fig.canvas"
   ]
  },
  {
   "cell_type": "code",
   "execution_count": 41,
   "metadata": {
    "slideshow": {
     "slide_type": "slide"
    }
   },
   "outputs": [
    {
     "data": {
      "application/vnd.jupyter.widget-view+json": {
       "model_id": "6944bbd33017451892b5739a028e4473"
      }
     },
     "metadata": {},
     "output_type": "display_data"
    }
   ],
   "source": [
    "from ipywidgets import Tab\n",
    "tab = Tab()\n",
    "tab.children = [domain_editor,fig.canvas]\n",
    "tab.set_title(0,\"Domain\")\n",
    "tab.set_title(1,\"Mesh\")\n",
    "tab"
   ]
  },
  {
   "cell_type": "code",
   "execution_count": null,
   "metadata": {
    "collapsed": true
   },
   "outputs": [],
   "source": [
    "t"
   ]
  }
 ],
 "metadata": {
  "celltoolbar": "Slideshow",
  "hide_code_all_hidden": false,
  "kernelspec": {
   "display_name": "Python 2",
   "language": "python",
   "name": "python2"
  },
  "language_info": {
   "codemirror_mode": {
    "name": "ipython",
    "version": 2
   },
   "file_extension": ".py",
   "mimetype": "text/x-python",
   "name": "python",
   "nbconvert_exporter": "python",
   "pygments_lexer": "ipython2",
   "version": "2.7.11"
  },
  "widgets": {
   "application/vnd.jupyter.widget-state+json": {
    "state": {
     "5e66221e19ab4e4290aa68d0b308fffa": {
      "model_module": "jupyter-js-widgets",
      "model_module_version": "~2.1.4",
      "model_name": "HTMLModel",
      "state": {
       "_model_module_version": "~2.1.4",
       "_view_module_version": "~2.1.4",
       "layout": "IPY_MODEL_b03f332c94d94627a2e96330175edb8b",
       "value": "<video width=\"800\" controls>\n<source type =\"video/mp4\" src=\"https://rawgit.com/erdc/proteus/add_fem_dem/notebooks/Presentations/FEMDEM/cylinder.mp4\"/>\nYour browser does not support the video tag\n</video>"
      }
     },
     "b03f332c94d94627a2e96330175edb8b": {
      "model_module": "jupyter-js-widgets",
      "model_module_version": "~2.1.4",
      "model_name": "LayoutModel",
      "state": {
       "_model_module_version": "~2.1.4",
       "_view_module_version": "~2.1.4"
      }
     }
    },
    "version_major": 1,
    "version_minor": 0
   }
  }
 },
 "nbformat": 4,
 "nbformat_minor": 2
}

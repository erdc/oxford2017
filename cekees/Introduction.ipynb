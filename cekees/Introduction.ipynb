{
 "cells": [
  {
   "cell_type": "markdown",
   "metadata": {
    "hideCode": false,
    "hidePrompt": false,
    "slideshow": {
     "slide_type": "slide"
    }
   },
   "source": [
    "Proteus FSI Workshop, Oxford 2017![triton](http://proteustoolkit.org/_static/corps_logo_cross2.svg)\n",
    "=================\n",
    "\n",
    "This notebook is also a (live) slide presentation. To view it as a presentation, click on the button in the toolbar that looks like this: ![rise button](rise.png)\n",
    "\n",
    "Use the space bar to step through and shift-enter to execute code cells."
   ]
  },
  {
   "cell_type": "markdown",
   "metadata": {
    "hideCode": false,
    "hidePrompt": false,
    "slideshow": {
     "slide_type": "slide"
    }
   },
   "source": [
    "### Acknowledgements\n",
    "---\n",
    "- Math Institute: Niall Bootland and Chris Breward (Oxford)\n",
    "- HR Wallingford: Aggelos Dimakopoulos\n",
    "- ERDC: Natalie Elwart\n",
    "- Funding:\n",
    "  - [ERDC](http://www.erdc.usace.army.mil) 219 Program\n",
    "  - [ERDC Military Engineering](http://www.erdc.usace.army.mil/Missions/Military-Engineering/)\n",
    "  - [Oxford InFoMM](https://www.ox.ac.uk/admissions/graduate/courses/industrially-focused-mathematical-modelling?wssl=1)\n"
   ]
  },
  {
   "cell_type": "markdown",
   "metadata": {
    "hideCode": false,
    "hidePrompt": false,
    "slideshow": {
     "slide_type": "slide"
    }
   },
   "source": [
    "### Logistics\n",
    "---\n",
    "- Facilities at the Math Institute\n",
    "- Headcount and rides for Wednesday\n",
    "- WiFi\n",
    "- [Schedule: http://erdc.github.io/sprints ](http://erdc.github.io/sprints)\n",
    "- [Wiki: https://github.com/erdc/sprints/wiki/Proteus-FSI-Workshop-July-3-to-7](https://github.com/erdc/sprints/wiki/Proteus-FSI-Workshop-July-3-to-7)"
   ]
  },
  {
   "cell_type": "markdown",
   "metadata": {
    "slideshow": {
     "slide_type": "slide"
    }
   },
   "source": [
    "### Survey of recent R&D in Proteus"
   ]
  },
  {
   "cell_type": "markdown",
   "metadata": {
    "slideshow": {
     "slide_type": "slide"
    }
   },
   "source": [
    "### Entropy Viscosity @mquezada\n",
    "---\n",
    "- Moving away from shock capturing while maintaining qualitative properties (e.g. bounds) and achieving higher order.\n",
    "- Going into SWE and RANS3P\n",
    "<video width=\"800\" src=\"3Bumps_friction_v2.mp4\" controls>\n",
    "Your browser does not support the video tag\n",
    "</video>"
   ]
  },
  {
   "cell_type": "markdown",
   "metadata": {
    "slideshow": {
     "slide_type": "slide"
    }
   },
   "source": [
    "### Splitting Methods  @cekees\n",
    "---\n",
    "- Extending 2nd Order Splitting of [Guermond and Salgado 2009](http://www.math.tamu.edu/~guermond/PUBLICATIONS/guermond_salgado_jcp_2009.pdf) to support air/water and air/water/sediment flows (`RANS3P*`).\n",
    "- Velocity update $$ \\alpha \\rho^{n+1} \\vec{v}^{n+1} + \\beta + \\rho^{n+1}(\\vec{v}^{\\star}\\cdot \\nabla)\\vec{v}^{n+1} - \\mu^{n+1} \\Delta \\vec{v}^{n+1} + \\nabla p^{\\star} =  \\vec{f}^{n+1}$$\n",
    "\n",
    "- Correction $$ \\Delta \\phi^{n+1} = \\frac{3 \\chi}{2} \\nabla \\cdot \\vec{v}^{n+1} $$\n",
    "\n",
    "- Pressure update $$ p^{n+1} = p^n + \\phi^{n+1} + \\nabla \\cdot \\vec{v}^{n+1}$$\n",
    "- Boundary condition (added mass...)"
   ]
  },
  {
   "cell_type": "markdown",
   "metadata": {
    "slideshow": {
     "slide_type": "slide"
    }
   },
   "source": [
    "### Three-Phase Flow @gcozzuto\n",
    "---\n",
    "$$ \\theta^s + \\theta^a + \\theta^w = 1 $$\n",
    "$$\\frac{\\partial \\left( \\rho^{\\alpha} \\theta^{\\alpha} \\right)}{\\partial t} + \\nabla \\cdot \\left(\n",
    "\\rho^{\\alpha} \\theta^{\\alpha} \\vec{v}^{\\alpha} \\right)  = 0$$ \n",
    "$$ \\frac{\\partial \\theta^s}{\\partial t} + \\nabla \\cdot \\left(\n",
    "\\theta^s \\vec{v}^s \\right)  = 0$$\n",
    "$$ \\frac{\\partial \\left( \\epsilon S \\right)}{\\partial t} + \\nabla  \\cdot \\left(\n",
    "      \\epsilon S \\vec{v}^w \\right) = 0 $$\n",
    "$$ \\rho^f \\epsilon \\frac{\\partial \\vec{v}^f }{ \\partial t} +  \\epsilon\n",
    "\\rho^f\\vec{v}^f\\cdot \\nabla \\vec{v}^f + \\nabla  \\cdot  \\tau^f  + \\epsilon\n",
    "\\nabla p^f - \\epsilon\\rho^f\\vec{g} + \\mathcal{I}^{fs} = 0 $$\n",
    "$$ \\rho^s \\theta^s \\frac{\\partial \\vec{v}^s }{ \\partial t} +\n",
    "\\theta^s\\rho^s\\vec{v}^s \\cdot \\nabla \\vec{v}^s  + \\nabla \\cdot \\tau^s +\n",
    "\\theta^s \\nabla p^f - \\theta^s \\rho^s \\vec{g} - \\mathcal{I}^{fs} = 0 $$\n",
    "$$ \\nabla \\cdot \\vec{v}^t = 0$$"
   ]
  },
  {
   "cell_type": "markdown",
   "metadata": {
    "slideshow": {
     "slide_type": "slide"
    }
   },
   "source": [
    "### Moored Rigid Structures @tridelat\n",
    "---\n",
    "ALE coupling with Chrono, problem setup (`SpatialTools` and `BoundaryConditions`)\n",
    "<center>\n",
    "<video width=\"900\" src=\"moored_cylinder.mp4\" controls>\n",
    "Your browser does not support the video tag\n",
    "</video>\n",
    "</center>"
   ]
  },
  {
   "cell_type": "markdown",
   "metadata": {
    "slideshow": {
     "slide_type": "slide"
    }
   },
   "source": [
    "### Deforming Structures @milad-rakhsha\n",
    "---\n",
    "- Support rigid and deforming structures in Chrono via both ALE and IBM\n",
    "<center>\n",
    "<video height=\"250\" src=\"ibm_plate.mp4\" controls>\n",
    "Your browser does not support the video tag\n",
    "</video>\n",
    "<video height=\"250\" src=\"dambreak.mp4\" controls>\n",
    "Your browser does not support the video tag\n",
    "</video>\n",
    "</center>"
   ]
  },
  {
   "cell_type": "markdown",
   "metadata": {
    "slideshow": {
     "slide_type": "slide"
    }
   },
   "source": [
    "### FEM-DEM Coupling @dtoconn\n",
    "---\n",
    "- Focus is on IBM linking proteus, mosaic, and chrono\n",
    "<center>\n",
    "<video height=\"500\" src=\"free_cylinder.mp4\" controls>\n",
    "Your browser does not support the video tag\n",
    "</video>\n",
    "</center>"
   ]
  },
  {
   "cell_type": "markdown",
   "metadata": {
    "slideshow": {
     "slide_type": "slide"
    }
   },
   "source": [
    "### Adaptivity @zhanga\n",
    "---\n",
    "Integration of proteus with RPI SCOREC, error estimates\n",
    "<center>\n",
    "<video height=\"600\" src=\"adaptive.mp4\" controls>\n",
    "Your browser does not support the video tag\n",
    "</video>\n",
    "</center>"
   ]
  },
  {
   "cell_type": "markdown",
   "metadata": {
    "slideshow": {
     "slide_type": "slide"
    }
   },
   "source": [
    "### Jupyter notebooks and apps @jamijares\n",
    "---\n",
    "- Computational flume and basin web apps vi Jupyter notebooks\n",
    "- New ipython widget package by @cekees [ipymesh](https://github.com/erdc/ipymesh)"
   ]
  },
  {
   "cell_type": "code",
   "execution_count": 2,
   "metadata": {
    "slideshow": {
     "slide_type": "subslide"
    }
   },
   "outputs": [
    {
     "data": {
      "application/vnd.jupyter.widget-view+json": {
       "model_id": "f3a6d118aed8402b827d8bac864e539b"
      }
     },
     "metadata": {},
     "output_type": "display_data"
    }
   ],
   "source": [
    "from ipymesh import PSLGEditor\n",
    "editor = PSLGEditor(vertices=[(0.1,0.1)],regionTypes=[1,2,0], boundaryTypes=[1,2,3,4,0], \n",
    "                    Lx=1.0, Ly=1.0, width=800, height=400)\n",
    "editor"
   ]
  },
  {
   "cell_type": "code",
   "execution_count": 3,
   "metadata": {
    "slideshow": {
     "slide_type": "slide"
    }
   },
   "outputs": [
    {
     "data": {
      "application/vnd.jupyter.widget-view+json": {
       "model_id": "8a0af4bf042940c197ff67f16fc3ac1b"
      }
     },
     "metadata": {},
     "output_type": "display_data"
    }
   ],
   "source": [
    "from ipymesh import PSLGEditor\n",
    "from proteus import Domain\n",
    "class PSLG_DomainEditor(PSLGEditor, Domain.PlanarStraightLineGraphDomain):\n",
    "    def __init__(self, *args, **kwargs):\n",
    "        super(PSLG_DomainEditor, self).__init__(*args, **kwargs)\n",
    "domain_editor = PSLG_DomainEditor(vertices=[(0.1,0.1)],regionTypes=[1,2,0], boundaryTypes=[1,2,3,4,0], x0=0.0, y0=0.0,Lx=1.0, Ly=1.0, width=800, height=400, polyfile=None, regionConstraints=None)\n",
    "domain_editor"
   ]
  },
  {
   "cell_type": "code",
   "execution_count": 4,
   "metadata": {
    "collapsed": true,
    "slideshow": {
     "slide_type": "slide"
    }
   },
   "outputs": [],
   "source": [
    "from proteus import TriangleTools\n",
    "domain_editor.polyfile=None\n",
    "domain_editor.writePoly('mesh')\n",
    "tmesh = TriangleTools.TriangleBaseMesh(baseFlags='VApq30Dena{0:f}'.format(0.001),\n",
    "                                       nbase=1,\n",
    "                                       verbose=10)\n",
    "tmesh.readFromPolyFile(domain_editor.polyfile)\n",
    "tmesh.writeToFile(domain_editor.polyfile)\n",
    "mesh=tmesh.convertToProteusMesh(verbose=1)"
   ]
  },
  {
   "cell_type": "code",
   "execution_count": 5,
   "metadata": {
    "slideshow": {
     "slide_type": "subslide"
    }
   },
   "outputs": [
    {
     "data": {
      "application/vnd.jupyter.widget-view+json": {
       "model_id": "99b89d5f66374321a7365423a5670504"
      }
     },
     "metadata": {},
     "output_type": "display_data"
    }
   ],
   "source": [
    "import ipympl\n",
    "from matplotlib import pyplot as plt\n",
    "fig, ax = plt.subplots(1,1)\n",
    "ax.tripcolor(mesh.nodeArray[:,0],\n",
    "              mesh.nodeArray[:,1],\n",
    "              mesh.elementNodesArray,\n",
    "              edgecolors='k',\n",
    "              facecolors=mesh.elementMaterialTypes)\n",
    "fig.canvas"
   ]
  },
  {
   "cell_type": "markdown",
   "metadata": {
    "slideshow": {
     "slide_type": "slide"
    }
   },
   "source": [
    "### Docker containers @cekees\n",
    "---\n",
    "- Public docker containers build automatically for master and release branches.\n",
    "- [https://cloud.docker.com](https://cloud.docker.com/swarm/erdc/repository/docker/erdc/proteus/general)\n",
    "```\n",
    "docker pull erdc/proteus:latest\n",
    "```\n",
    "```\n",
    "docker pull erdc/proteus:release-1.3.3```\n",
    "\n",
    "- If you like the commandline then do something like\n",
    "```\n",
    "docker run -it erdc/proteus:latest bash```\n",
    "\n",
    "- If you like to work through jupyter notebooks do something like\n",
    "```\n",
    "docker run -it --host=net erdc/proteus:latest```\n"
   ]
  },
  {
   "cell_type": "markdown",
   "metadata": {
    "slideshow": {
     "slide_type": "slide"
    }
   },
   "source": [
    "###  Binder @cekees\n",
    "---\n",
    "- Enable public \"binder\" of repositories with Jupyter notebooks\n",
    "- Just extend off of the proteus Docker image with a Dockerfile:\n",
    "```\n",
    "FROM erdc/proteus:latest\n",
    "MAINTAINER Proteus <proteus-dev@groups.google.com>\n",
    "COPY . $HOME\n",
    "```\n",
    "- **This** notebook [https://github.com/erdc/oxford2017](https://github.com/erdc/oxford2017)"
   ]
  },
  {
   "cell_type": "markdown",
   "metadata": {
    "slideshow": {
     "slide_type": "slide"
    }
   },
   "source": [
    "### Portable binaries, hashdist/conda integration @msarahan\n",
    "---\n",
    "- The Hashdist tool and stack we depend on is being integrated with the popular conda tool and anaconda stack \n",
    "- Support for `conda install proteus` on linux, mac, and windows into anaconda Python\n",
    "- Support for `conda install pkg` inside proteus stack just like `pip install` works now\n",
    "- Improved support for portable binaries and conda channels with proteus stack packages."
   ]
  },
  {
   "cell_type": "markdown",
   "metadata": {
    "collapsed": true,
    "slideshow": {
     "slide_type": "slide"
    }
   },
   "source": [
    "### New licensing @cekees\n",
    "---\n",
    "- Moving from NASA license to standard MIT [LICENSE](https://github.com/erdc/proteus/blob/update_dev/LICENSE.md)\n",
    "- Thanks to strategy pioneered by [US Defense Digital Service](https://www.dds.mil/)\n",
    "- Add your name and copyright (if eligible) to [CONTRIBUTORS](https://github.com/erdc/proteus/blob/update_dev/CONTRIBUTORS.md)\n",
    "- See also [CONTRIBUTING](https://github.com/erdc/proteus/blob/update_dev/CONTRIBUTING.md) and [RELEASE](https://github.com/erdc/proteus/blob/update_dev/RELEASE.md)"
   ]
  },
  {
   "cell_type": "markdown",
   "metadata": {
    "hideCode": false,
    "hidePrompt": false,
    "slideshow": {
     "slide_type": "slide"
    }
   },
   "source": [
    "### Workshop Objectives\n",
    "---\n",
    "- Continuum air/water/sediment models\n",
    "- Immersed Boundary Methods\n",
    "- Meshing (generation, adaptivity, etc.)\n",
    "- FEM-DEM approaches to granular media \n",
    "- Preconditioners for multi-phase Navier-Stokes equations\n",
    "- Galerkin finite element methods for NSE and SWE\n",
    "- Proteus 1.4 and 2.0 plan"
   ]
  },
  {
   "cell_type": "markdown",
   "metadata": {
    "slideshow": {
     "slide_type": "slide"
    }
   },
   "source": [
    "### Scaling and \"10x\" development\n",
    "---\n",
    "- Steve McConnell, author of [Code Complete](https://www.amazon.co.uk/Code-Complete-Practical-Handbook-Construction/dp/0735619670), talks about factor of 10 difference in productivity for individuals and teams\n",
    "- Lots of good and bad discussion about 10x developers, whether they exist, etc.\n",
    "- Interesting blog post by Jessic Kerr [http://blog.jessitron.com/2017/06/the-most-productive-circumstances-for.html](http://blog.jessitron.com/2017/06/the-most-productive-circumstances-for.html)\n",
    "  - \"it isn't the developers, so much as the situation\"\n",
    "  - \"The system is alive in our head\"\n",
    "  - \"Please write tests\"\n",
    "  - \"Pair program!\"\n",
    "  \n",
    "TL;DR: the most productive development happens when one person knows the system intimately because they wrote it; this is in conflict with growing a system beyond what one person maintains.\n",
    "\n"
   ]
  },
  {
   "cell_type": "markdown",
   "metadata": {
    "slideshow": {
     "slide_type": "slide"
    }
   },
   "source": [
    "### Programming \"Pairs\"\n",
    "---\n",
    "- Threephase: **Giovanni**, Aggelos, Chris, Manuel\n",
    "- FEM-DEM: **Devin**, Chris, Manuel, (Arnold, Milad)\n",
    "- Meshing: **Tristan**, **Alvin**, Chris, (Amanda, Grace, Jorge)\n",
    "- Preconditioning: **Alistair**, Niall, Chris\n",
    "- Galerkin Methods: **Manuel**, Chris, Alvin, Alistair (Matthew)\n",
    "- Boundary Conditions: **Helen**, Giovanni, Aggelos, Chris\n",
    "- Releases: **Chris**, **Aggelos**, ALL..."
   ]
  },
  {
   "cell_type": "markdown",
   "metadata": {
    "collapsed": true,
    "slideshow": {
     "slide_type": "slide"
    }
   },
   "source": [
    "###  Discussion"
   ]
  }
 ],
 "metadata": {
  "celltoolbar": "Slideshow",
  "hide_code_all_hidden": false,
  "kernelspec": {
   "display_name": "Python 2",
   "language": "python",
   "name": "python2"
  },
  "language_info": {
   "codemirror_mode": {
    "name": "ipython",
    "version": 2
   },
   "file_extension": ".py",
   "mimetype": "text/x-python",
   "name": "python",
   "nbconvert_exporter": "python",
   "pygments_lexer": "ipython2",
   "version": "2.7.11"
  },
  "widgets": {
   "application/vnd.jupyter.widget-state+json": {
    "state": {
     "5e66221e19ab4e4290aa68d0b308fffa": {
      "model_module": "jupyter-js-widgets",
      "model_module_version": "~2.1.4",
      "model_name": "HTMLModel",
      "state": {
       "_model_module_version": "~2.1.4",
       "_view_module_version": "~2.1.4",
       "layout": "IPY_MODEL_b03f332c94d94627a2e96330175edb8b",
       "value": "<video width=\"800\" controls>\n<source type =\"video/mp4\" src=\"https://rawgit.com/erdc/proteus/add_fem_dem/notebooks/Presentations/FEMDEM/cylinder.mp4\"/>\nYour browser does not support the video tag\n</video>"
      }
     },
     "b03f332c94d94627a2e96330175edb8b": {
      "model_module": "jupyter-js-widgets",
      "model_module_version": "~2.1.4",
      "model_name": "LayoutModel",
      "state": {
       "_model_module_version": "~2.1.4",
       "_view_module_version": "~2.1.4"
      }
     }
    },
    "version_major": 1,
    "version_minor": 0
   }
  }
 },
 "nbformat": 4,
 "nbformat_minor": 2
}

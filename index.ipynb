{
 "cells": [
  {
   "cell_type": "markdown",
   "metadata": {},
   "source": [
    "### Proteus FSI Workshop, Oxford 2017\n",
    "----\n",
    "- [Worskhop Website](http://erdc.github.io/sprints/)\n",
    "- [Workshop Wiki](https://github.com/erdc/sprints/wiki/Proteus-FSI-Workshop-July-3-to-7)\n",
    "- [Introduction](cekees/Introduction.ipynb)"
   ]
  }
 ],
 "metadata": {
  "kernelspec": {
   "display_name": "Python 2",
   "language": "python",
   "name": "python2"
  },
  "language_info": {
   "codemirror_mode": {
    "name": "ipython",
    "version": 2
   },
   "file_extension": ".py",
   "mimetype": "text/x-python",
   "name": "python",
   "nbconvert_exporter": "python",
   "pygments_lexer": "ipython2",
   "version": "2.7.11"
  }
 },
 "nbformat": 4,
 "nbformat_minor": 2
}
